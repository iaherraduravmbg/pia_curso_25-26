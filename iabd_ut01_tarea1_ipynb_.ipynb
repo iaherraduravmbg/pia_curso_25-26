{
  "nbformat": 4,
  "nbformat_minor": 0,
  "metadata": {
    "colab": {
      "provenance": [],
      "authorship_tag": "ABX9TyMLd0+2888NOYVsKz36T8G/",
      "include_colab_link": true
    },
    "kernelspec": {
      "name": "python3",
      "display_name": "Python 3"
    },
    "language_info": {
      "name": "python"
    }
  },
  "cells": [
    {
      "cell_type": "markdown",
      "metadata": {
        "id": "view-in-github",
        "colab_type": "text"
      },
      "source": [
        "<a href=\"https://colab.research.google.com/github/iaherraduravmbg/pia_curso_25-26/blob/main/iabd_ut01_tarea1_ipynb_.ipynb\" target=\"_parent\"><img src=\"https://colab.research.google.com/assets/colab-badge.svg\" alt=\"Open In Colab\"/></a>"
      ]
    },
    {
      "cell_type": "markdown",
      "source": [
        "**Heading 1.**"
      ],
      "metadata": {
        "id": "CZwBlkLWvo5s"
      }
    },
    {
      "cell_type": "markdown",
      "source": [
        "a  (0,5 puntos) Borra la celda actual, añade una nueva de texto y escribe en su interior tu nombre\n",
        " completo en Heading 1."
      ],
      "metadata": {
        "id": "oed4Y5fyzull"
      }
    },
    {
      "cell_type": "markdown",
      "source": [
        "b. (1,0 puntos) En una nueva celda de código, crea una lista de nombre tenistas con los siguientes elementos: Novak Djokovic, Rafael Nadal, Roger Federer, Pete Sampras, Roy Emerson. Crea otra lista de nombre grand_slams con los siguientes elementos: 24, 22, 20, 14, 12. Imprime por pantalla las dos listas"
      ],
      "metadata": {
        "id": "yBzyNDs70gE1"
      }
    },
    {
      "cell_type": "code",
      "source": [
        "nombres = [\"Novak Djokovic\", \"Rafael Nadal\", \"Roger Federer\", \"Pete Sampras\", \"Roy Emerson\"]\n",
        "grand_slams = [ 24, 22, 20, 14, 12.]\n",
        "print(nombres + grand_slams)\n",
        "print(nombres)\n",
        "print(grand_slams)\n"
      ],
      "metadata": {
        "colab": {
          "base_uri": "https://localhost:8080/"
        },
        "id": "j8pkixmJv3OB",
        "outputId": "f0c226b9-a3fd-4556-9465-9db6837d0bf5"
      },
      "execution_count": 6,
      "outputs": [
        {
          "output_type": "stream",
          "name": "stdout",
          "text": [
            "['Novak Djokovic', 'Rafael Nadal', 'Roger Federer', 'Pete Sampras', 'Roy Emerson', 24, 22, 20, 14, 12.0]\n",
            "['Novak Djokovic', 'Rafael Nadal', 'Roger Federer', 'Pete Sampras', 'Roy Emerson']\n",
            "[24, 22, 20, 14, 12.0]\n"
          ]
        }
      ]
    },
    {
      "cell_type": "markdown",
      "source": [
        "  c. (1,0 puntos) En una nueva celda de código, crea un diccionario de nombre dic donde la clave de\n",
        " cada elemento sea el nombre de un tenista y su valor el número de Grand Slams ganados.\n",
        " Imprime por pantalla el diccionario"
      ],
      "metadata": {
        "id": "pdCG7q28z9xN"
      }
    },
    {
      "cell_type": "code",
      "source": [
        "dic = {\"Novak Djokovic\": 24, \"Rafael Nadal\": 22, \"Roger Federer\": 20, \"Pete Sampras\": 14, \"Roy Emerson\": 12 }\n",
        "print(dic)\n"
      ],
      "metadata": {
        "colab": {
          "base_uri": "https://localhost:8080/"
        },
        "id": "z7IL60bPwohY",
        "outputId": "98931794-f762-4a77-86a3-ee3c473426ee"
      },
      "execution_count": 10,
      "outputs": [
        {
          "output_type": "stream",
          "name": "stdout",
          "text": [
            "{'Novak Djokovic': 24, 'Rafael Nadal': 22, 'Roger Federer': 20, 'Pete Sampras': 14, 'Roy Emerson': 12}\n"
          ]
        }
      ]
    },
    {
      "cell_type": "markdown",
      "source": [
        "d. (2,0 puntos) Crea una función de nombre get_tenistas que reciba como parámetro el diccionario\n",
        " dic y muestre los datos del diccionario en  la forma Nombre del jugador: X Grand Slams\n",
        " ganados. El resultado debería ser como sigue:\n",
        " Novak Djokovic: 24 Grand Slams ganados.\n",
        " Rafael Nadal: 22 Grand Slams ganados."
      ],
      "metadata": {
        "id": "aUItd17T0DRl"
      }
    },
    {
      "cell_type": "code",
      "source": [
        "def get_tenistas(dic):\n",
        "  for tenista, grand_slams in dic.items():\n",
        "    if tenista == \"Novak Djokovic\" or tenista == \"Rafael Nadal\":\n",
        "      print(f\"{tenista}: {grand_slams} Grand Slams ganados.\")\n",
        "\n",
        "get_tenistas(dic)"
      ],
      "metadata": {
        "colab": {
          "base_uri": "https://localhost:8080/"
        },
        "id": "TwasEF4bx7cE",
        "outputId": "5df515d3-1b2e-4f8e-9179-5d07d6314226"
      },
      "execution_count": 12,
      "outputs": [
        {
          "output_type": "stream",
          "name": "stdout",
          "text": [
            "Novak Djokovic: 24 Grand Slams ganados.\n",
            "Rafael Nadal: 22 Grand Slams ganados.\n"
          ]
        }
      ]
    },
    {
      "cell_type": "markdown",
      "source": [
        " e. (2,0 puntos) Define la clase Pais con un \"constructor\" que inicialice los atributos nombre,\n",
        " capital e idioma, que serán los datos a considerar en la clase. Dentro de ella, crea los métodos\n",
        " get_nombre, get_capital y get_idioma, que devolverán el nombre del país, su capital y el idioma\n",
        " hablado, respectivamente. A continuación, crea una instancia u objeto de la clase Pais,\n",
        " asignándole los datos que desees, y haz uso de los métodos implementados para mostrar un\n",
        " mensaje con la información almacenada"
      ],
      "metadata": {
        "id": "unZ88pax3QcW"
      }
    },
    {
      "cell_type": "code",
      "source": [],
      "metadata": {
        "id": "5Hx1BF1q3h0c"
      },
      "execution_count": null,
      "outputs": []
    },
    {
      "cell_type": "markdown",
      "source": [
        " f. (0,5 puntos) Haz que todas las celdas de código tengan por encima una celda de texto que\n",
        " muestre el enuncidado de cada apartado.\n"
      ],
      "metadata": {
        "id": "7T2_D0is4BHN"
      }
    },
    {
      "cell_type": "code",
      "source": [
        "# Hecho"
      ],
      "metadata": {
        "id": "7COUMpBJ4GUM"
      },
      "execution_count": null,
      "outputs": []
    }
  ]
}